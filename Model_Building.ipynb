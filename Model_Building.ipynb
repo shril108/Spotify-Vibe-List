{
 "cells": [
  {
   "cell_type": "code",
   "execution_count": 1,
   "id": "db52878a",
   "metadata": {},
   "outputs": [
    {
     "name": "stdout",
     "output_type": "stream",
     "text": [
      "Requirement already satisfied: imblearn in c:\\users\\phoenix\\anaconda3\\lib\\site-packages (0.0)\n",
      "Requirement already satisfied: imbalanced-learn in c:\\users\\phoenix\\anaconda3\\lib\\site-packages (from imblearn) (0.11.0)\n",
      "Requirement already satisfied: numpy>=1.17.3 in c:\\users\\phoenix\\appdata\\roaming\\python\\python39\\site-packages (from imbalanced-learn->imblearn) (1.22.3)\n",
      "Requirement already satisfied: scipy>=1.5.0 in c:\\users\\phoenix\\anaconda3\\lib\\site-packages (from imbalanced-learn->imblearn) (1.8.0)\n",
      "Requirement already satisfied: scikit-learn>=1.0.2 in c:\\users\\phoenix\\anaconda3\\lib\\site-packages (from imbalanced-learn->imblearn) (1.0.2)\n",
      "Requirement already satisfied: joblib>=1.1.1 in c:\\users\\phoenix\\anaconda3\\lib\\site-packages (from imbalanced-learn->imblearn) (1.3.2)\n",
      "Requirement already satisfied: threadpoolctl>=2.0.0 in c:\\users\\phoenix\\anaconda3\\lib\\site-packages (from imbalanced-learn->imblearn) (2.2.0)\n",
      "Note: you may need to restart the kernel to use updated packages.\n"
     ]
    }
   ],
   "source": [
    "%pip install imblearn"
   ]
  },
  {
   "cell_type": "code",
   "execution_count": 2,
   "id": "45462a08",
   "metadata": {},
   "outputs": [],
   "source": [
    "import pandas as pd\n",
    "import numpy as np\n",
    "import seaborn as sns\n",
    "import matplotlib.pyplot as plt\n",
    "import matplotlib.ticker as plticker\n",
    "from imblearn.over_sampling import SMOTE\n",
    "%matplotlib inline"
   ]
  },
  {
   "cell_type": "markdown",
   "id": "817f90b6",
   "metadata": {},
   "source": [
    "# Loading Data In"
   ]
  },
  {
   "cell_type": "code",
   "execution_count": 3,
   "id": "1a1dec0f",
   "metadata": {},
   "outputs": [
    {
     "data": {
      "text/html": [
       "<div>\n",
       "<style scoped>\n",
       "    .dataframe tbody tr th:only-of-type {\n",
       "        vertical-align: middle;\n",
       "    }\n",
       "\n",
       "    .dataframe tbody tr th {\n",
       "        vertical-align: top;\n",
       "    }\n",
       "\n",
       "    .dataframe thead th {\n",
       "        text-align: right;\n",
       "    }\n",
       "</style>\n",
       "<table border=\"1\" class=\"dataframe\">\n",
       "  <thead>\n",
       "    <tr style=\"text-align: right;\">\n",
       "      <th></th>\n",
       "      <th>track_id</th>\n",
       "      <th>album</th>\n",
       "      <th>artist</th>\n",
       "      <th>popularity</th>\n",
       "      <th>danceability</th>\n",
       "      <th>acousticness</th>\n",
       "      <th>energy</th>\n",
       "      <th>instrumentalness</th>\n",
       "      <th>liveness</th>\n",
       "      <th>loudness</th>\n",
       "      <th>speechiness</th>\n",
       "      <th>tempo</th>\n",
       "      <th>favorite</th>\n",
       "    </tr>\n",
       "  </thead>\n",
       "  <tbody>\n",
       "    <tr>\n",
       "      <th>0</th>\n",
       "      <td>7MAibcTli4IisCtbHKrGMh</td>\n",
       "      <td>Leave The Door Open</td>\n",
       "      <td>Bruno Mars</td>\n",
       "      <td>0</td>\n",
       "      <td>0.0000</td>\n",
       "      <td>0.000002</td>\n",
       "      <td>0.000355</td>\n",
       "      <td>0.0</td>\n",
       "      <td>0.0202</td>\n",
       "      <td>-7.542</td>\n",
       "      <td>0.0000</td>\n",
       "      <td>119.6005</td>\n",
       "      <td>0</td>\n",
       "    </tr>\n",
       "    <tr>\n",
       "      <th>1</th>\n",
       "      <td>5QO79kh1waicV47BqGRL3g</td>\n",
       "      <td>After Hours</td>\n",
       "      <td>The Weeknd</td>\n",
       "      <td>0</td>\n",
       "      <td>0.0596</td>\n",
       "      <td>0.000002</td>\n",
       "      <td>0.000568</td>\n",
       "      <td>0.0</td>\n",
       "      <td>0.0211</td>\n",
       "      <td>-7.542</td>\n",
       "      <td>0.0228</td>\n",
       "      <td>34.3030</td>\n",
       "      <td>0</td>\n",
       "    </tr>\n",
       "    <tr>\n",
       "      <th>2</th>\n",
       "      <td>1diS6nkxMQc3wwC4G1j0bh</td>\n",
       "      <td>Future Nostalgia (The Moonlight Edition)</td>\n",
       "      <td>Dua Lipa</td>\n",
       "      <td>0</td>\n",
       "      <td>0.0610</td>\n",
       "      <td>0.000002</td>\n",
       "      <td>0.000569</td>\n",
       "      <td>0.0</td>\n",
       "      <td>0.0228</td>\n",
       "      <td>-7.542</td>\n",
       "      <td>0.0229</td>\n",
       "      <td>34.8750</td>\n",
       "      <td>0</td>\n",
       "    </tr>\n",
       "    <tr>\n",
       "      <th>3</th>\n",
       "      <td>4u4NyuceXP7Uzh7XFJKCr1</td>\n",
       "      <td>Hold On</td>\n",
       "      <td>Justin Bieber</td>\n",
       "      <td>0</td>\n",
       "      <td>0.0612</td>\n",
       "      <td>0.000002</td>\n",
       "      <td>0.000707</td>\n",
       "      <td>0.0</td>\n",
       "      <td>0.0229</td>\n",
       "      <td>-7.542</td>\n",
       "      <td>0.0232</td>\n",
       "      <td>37.3990</td>\n",
       "      <td>0</td>\n",
       "    </tr>\n",
       "    <tr>\n",
       "      <th>4</th>\n",
       "      <td>3Ofmpyhv5UAQ70mENzB277</td>\n",
       "      <td>Astronaut In The Ocean</td>\n",
       "      <td>Masked Wolf</td>\n",
       "      <td>0</td>\n",
       "      <td>0.0624</td>\n",
       "      <td>0.000003</td>\n",
       "      <td>0.000737</td>\n",
       "      <td>0.0</td>\n",
       "      <td>0.0251</td>\n",
       "      <td>-7.542</td>\n",
       "      <td>0.0234</td>\n",
       "      <td>44.5980</td>\n",
       "      <td>0</td>\n",
       "    </tr>\n",
       "  </tbody>\n",
       "</table>\n",
       "</div>"
      ],
      "text/plain": [
       "                 track_id                                     album  \\\n",
       "0  7MAibcTli4IisCtbHKrGMh                       Leave The Door Open   \n",
       "1  5QO79kh1waicV47BqGRL3g                               After Hours   \n",
       "2  1diS6nkxMQc3wwC4G1j0bh  Future Nostalgia (The Moonlight Edition)   \n",
       "3  4u4NyuceXP7Uzh7XFJKCr1                                   Hold On   \n",
       "4  3Ofmpyhv5UAQ70mENzB277                    Astronaut In The Ocean   \n",
       "\n",
       "          artist  popularity  danceability  acousticness    energy  \\\n",
       "0     Bruno Mars           0        0.0000      0.000002  0.000355   \n",
       "1     The Weeknd           0        0.0596      0.000002  0.000568   \n",
       "2       Dua Lipa           0        0.0610      0.000002  0.000569   \n",
       "3  Justin Bieber           0        0.0612      0.000002  0.000707   \n",
       "4    Masked Wolf           0        0.0624      0.000003  0.000737   \n",
       "\n",
       "   instrumentalness  liveness  loudness  speechiness     tempo  favorite  \n",
       "0               0.0    0.0202    -7.542       0.0000  119.6005         0  \n",
       "1               0.0    0.0211    -7.542       0.0228   34.3030         0  \n",
       "2               0.0    0.0228    -7.542       0.0229   34.8750         0  \n",
       "3               0.0    0.0229    -7.542       0.0232   37.3990         0  \n",
       "4               0.0    0.0251    -7.542       0.0234   44.5980         0  "
      ]
     },
     "execution_count": 3,
     "metadata": {},
     "output_type": "execute_result"
    }
   ],
   "source": [
    "df = pd.read_csv(\"final_data.csv\")\n",
    "df.head()\n",
    "# df['favorite'].value_counts()"
   ]
  },
  {
   "cell_type": "markdown",
   "id": "dae8b9d4",
   "metadata": {},
   "source": [
    "# Data Splitting"
   ]
  },
  {
   "cell_type": "code",
   "execution_count": 4,
   "id": "cdccd833",
   "metadata": {},
   "outputs": [
    {
     "data": {
      "text/html": [
       "<div>\n",
       "<style scoped>\n",
       "    .dataframe tbody tr th:only-of-type {\n",
       "        vertical-align: middle;\n",
       "    }\n",
       "\n",
       "    .dataframe tbody tr th {\n",
       "        vertical-align: top;\n",
       "    }\n",
       "\n",
       "    .dataframe thead th {\n",
       "        text-align: right;\n",
       "    }\n",
       "</style>\n",
       "<table border=\"1\" class=\"dataframe\">\n",
       "  <thead>\n",
       "    <tr style=\"text-align: right;\">\n",
       "      <th></th>\n",
       "      <th>track_id</th>\n",
       "      <th>album</th>\n",
       "      <th>artist</th>\n",
       "      <th>popularity</th>\n",
       "      <th>danceability</th>\n",
       "      <th>acousticness</th>\n",
       "      <th>energy</th>\n",
       "      <th>instrumentalness</th>\n",
       "      <th>liveness</th>\n",
       "      <th>loudness</th>\n",
       "      <th>speechiness</th>\n",
       "      <th>tempo</th>\n",
       "      <th>favorite</th>\n",
       "    </tr>\n",
       "  </thead>\n",
       "  <tbody>\n",
       "    <tr>\n",
       "      <th>6588</th>\n",
       "      <td>2pZL9DNKxnPwRk7hQPUvrL</td>\n",
       "      <td>Rush Over Me (Seven Lions 1999 Remix)</td>\n",
       "      <td>Seven Lions</td>\n",
       "      <td>52</td>\n",
       "      <td>0.629</td>\n",
       "      <td>0.381</td>\n",
       "      <td>0.699</td>\n",
       "      <td>0.019300</td>\n",
       "      <td>0.144</td>\n",
       "      <td>-6.396</td>\n",
       "      <td>0.0581</td>\n",
       "      <td>125.447</td>\n",
       "      <td>0</td>\n",
       "    </tr>\n",
       "    <tr>\n",
       "      <th>4310</th>\n",
       "      <td>3jYRpwbctfqB77uU7T7K3U</td>\n",
       "      <td>Special Forces</td>\n",
       "      <td>38 Special</td>\n",
       "      <td>39</td>\n",
       "      <td>0.510</td>\n",
       "      <td>0.088</td>\n",
       "      <td>0.523</td>\n",
       "      <td>0.000048</td>\n",
       "      <td>0.108</td>\n",
       "      <td>-8.913</td>\n",
       "      <td>0.0438</td>\n",
       "      <td>108.577</td>\n",
       "      <td>0</td>\n",
       "    </tr>\n",
       "    <tr>\n",
       "      <th>8727</th>\n",
       "      <td>5WOMgv6ks1MyqIKpo4rCXN</td>\n",
       "      <td>Gran Partita</td>\n",
       "      <td>Thaous Ensemble</td>\n",
       "      <td>63</td>\n",
       "      <td>0.739</td>\n",
       "      <td>0.912</td>\n",
       "      <td>0.841</td>\n",
       "      <td>0.774000</td>\n",
       "      <td>0.271</td>\n",
       "      <td>-4.832</td>\n",
       "      <td>0.1140</td>\n",
       "      <td>144.065</td>\n",
       "      <td>0</td>\n",
       "    </tr>\n",
       "    <tr>\n",
       "      <th>6758</th>\n",
       "      <td>7EYLrneh08x29IAWLl7Tst</td>\n",
       "      <td>Same Love</td>\n",
       "      <td>Prince Fox</td>\n",
       "      <td>52</td>\n",
       "      <td>0.637</td>\n",
       "      <td>0.421</td>\n",
       "      <td>0.710</td>\n",
       "      <td>0.028700</td>\n",
       "      <td>0.150</td>\n",
       "      <td>-6.261</td>\n",
       "      <td>0.0602</td>\n",
       "      <td>126.024</td>\n",
       "      <td>0</td>\n",
       "    </tr>\n",
       "    <tr>\n",
       "      <th>5256</th>\n",
       "      <td>1ydm3DkQ1KOlawhvfl9XCn</td>\n",
       "      <td>What If</td>\n",
       "      <td>SKIY</td>\n",
       "      <td>45</td>\n",
       "      <td>0.559</td>\n",
       "      <td>0.170</td>\n",
       "      <td>0.605</td>\n",
       "      <td>0.000568</td>\n",
       "      <td>0.118</td>\n",
       "      <td>-7.639</td>\n",
       "      <td>0.0481</td>\n",
       "      <td>118.092</td>\n",
       "      <td>0</td>\n",
       "    </tr>\n",
       "  </tbody>\n",
       "</table>\n",
       "</div>"
      ],
      "text/plain": [
       "                    track_id                                  album  \\\n",
       "6588  2pZL9DNKxnPwRk7hQPUvrL  Rush Over Me (Seven Lions 1999 Remix)   \n",
       "4310  3jYRpwbctfqB77uU7T7K3U                         Special Forces   \n",
       "8727  5WOMgv6ks1MyqIKpo4rCXN                           Gran Partita   \n",
       "6758  7EYLrneh08x29IAWLl7Tst                              Same Love   \n",
       "5256  1ydm3DkQ1KOlawhvfl9XCn                                What If   \n",
       "\n",
       "               artist  popularity  danceability  acousticness  energy  \\\n",
       "6588      Seven Lions          52         0.629         0.381   0.699   \n",
       "4310       38 Special          39         0.510         0.088   0.523   \n",
       "8727  Thaous Ensemble          63         0.739         0.912   0.841   \n",
       "6758       Prince Fox          52         0.637         0.421   0.710   \n",
       "5256             SKIY          45         0.559         0.170   0.605   \n",
       "\n",
       "      instrumentalness  liveness  loudness  speechiness    tempo  favorite  \n",
       "6588          0.019300     0.144    -6.396       0.0581  125.447         0  \n",
       "4310          0.000048     0.108    -8.913       0.0438  108.577         0  \n",
       "8727          0.774000     0.271    -4.832       0.1140  144.065         0  \n",
       "6758          0.028700     0.150    -6.261       0.0602  126.024         0  \n",
       "5256          0.000568     0.118    -7.639       0.0481  118.092         0  "
      ]
     },
     "execution_count": 4,
     "metadata": {},
     "output_type": "execute_result"
    }
   ],
   "source": [
    "#Creating train and test sets\n",
    "\n",
    "shuffled = df.sample(frac = 1)\n",
    "\n",
    "train_frac = int(0.8*len(df))\n",
    "\n",
    "train = shuffled[:train_frac]\n",
    "test = shuffled[train_frac:]\n",
    "train.head()"
   ]
  },
  {
   "cell_type": "code",
   "execution_count": 5,
   "id": "d12da976",
   "metadata": {},
   "outputs": [],
   "source": [
    "x = train.drop(columns = ['favorite', 'album', 'artist', 'track_id'])\n",
    "y = train.favorite\n",
    "\n",
    "x_test = test.drop(columns = ['favorite', 'album', 'artist', 'track_id'])\n",
    "y_test = test.favorite"
   ]
  },
  {
   "cell_type": "markdown",
   "id": "5259429c",
   "metadata": {},
   "source": [
    "# Addressing Imbalanced Dataset\n"
   ]
  },
  {
   "cell_type": "code",
   "execution_count": 6,
   "id": "06cd9149",
   "metadata": {},
   "outputs": [],
   "source": [
    "#experimenting with SMOTE oversampling methods\n",
    "from imblearn.over_sampling import SMOTE\n",
    "from imblearn.combine import SMOTETomek\n",
    "from imblearn.combine import SMOTEENN\n",
    "\n",
    "#SMOTE\n",
    "smot = SMOTE()\n",
    "x_smote, y_smote = smot.fit_resample(x, y)\n",
    "\n",
    "\n",
    "#SMOTE + Tomek\n",
    "smotom = SMOTETomek()\n",
    "x_smotom, y_smotom = smotom.fit_resample(x,y)\n",
    "\n",
    "\n",
    "#SMOTE + ENN\n",
    "smoten = SMOTEENN()\n",
    "x_smoten, y_smoten = smoten.fit_resample(x,y)"
   ]
  },
  {
   "cell_type": "code",
   "execution_count": 7,
   "id": "e803b2f0",
   "metadata": {},
   "outputs": [
    {
     "data": {
      "text/plain": [
       "0    7821\n",
       "1    7821\n",
       "Name: favorite, dtype: int64"
      ]
     },
     "execution_count": 7,
     "metadata": {},
     "output_type": "execute_result"
    }
   ],
   "source": [
    "y_smote.value_counts()"
   ]
  },
  {
   "cell_type": "code",
   "execution_count": 8,
   "id": "72ad9871",
   "metadata": {},
   "outputs": [],
   "source": [
    "#create funtion to draw confusion matrix as well as output metrics\n",
    "from sklearn.metrics import accuracy_score, f1_score, precision_score, recall_score\n",
    "from sklearn.metrics import confusion_matrix, roc_auc_score, roc_curve, classification_report, precision_recall_curve\n",
    "\n",
    "def model_perform(model, x_test, y_test):\n",
    "    y_prob = model.predict_proba(x_test)\n",
    "    y_pred = model.predict(x_test)\n",
    "\n",
    "    print('Confusion Matrix')\n",
    "    print('='*60)\n",
    "    print(confusion_matrix(y_test,y_pred),\"\\n\")\n",
    "    print('Classification Report')\n",
    "    print('='*60)\n",
    "    print(classification_report(y_test,y_pred),\"\\n\")\n",
    "    print('AUC-ROC')\n",
    "    print(roc_auc_score(y_test, y_prob[:,1]))\n",
    "    \n",
    "    print('='*60)\n",
    "    \n",
    "    print('Precision: ')\n",
    "    print(precision_score(y_test, y_pred))\n",
    "    print('Recall: ')\n",
    "    print(recall_score(y_test, y_pred))\n",
    "    print('F1 Score: ')\n",
    "    print(f1_score(y_test, y_pred))\n"
   ]
  },
  {
   "cell_type": "code",
   "execution_count": 9,
   "id": "990229ec",
   "metadata": {},
   "outputs": [],
   "source": [
    "from sklearn.pipeline import Pipeline\n",
    "from sklearn import metrics \n",
    "from sklearn.metrics import f1_score\n",
    "from sklearn.metrics import confusion_matrix, ConfusionMatrixDisplay"
   ]
  },
  {
   "cell_type": "markdown",
   "id": "37b8130f",
   "metadata": {},
   "source": [
    "### K Nearest Neighbors Classifier"
   ]
  },
  {
   "cell_type": "code",
   "execution_count": 10,
   "id": "9f5e79d9",
   "metadata": {},
   "outputs": [
    {
     "data": {
      "text/plain": [
       "0.9995340167753961"
      ]
     },
     "execution_count": 10,
     "metadata": {},
     "output_type": "execute_result"
    }
   ],
   "source": [
    "from sklearn.neighbors import KNeighborsClassifier\n",
    "from sklearn.model_selection import GridSearchCV\n",
    "\n",
    "knn = KNeighborsClassifier()\n",
    "\n",
    "\n",
    "knn.fit(x, y)\n",
    "pred = knn.predict(x_test)\n",
    "\n",
    "from sklearn.metrics import accuracy_score\n",
    "accuracy_score(y_test,pred)\n"
   ]
  },
  {
   "cell_type": "code",
   "execution_count": 11,
   "id": "4b221d52",
   "metadata": {},
   "outputs": [
    {
     "data": {
      "text/plain": [
       "Text(0, 0.5, 'Accuracy Score')"
      ]
     },
     "execution_count": 11,
     "metadata": {},
     "output_type": "execute_result"
    },
    {
     "data": {
      "image/png": "[encoded data removed]",
      "text/plain": [
       "<Figure size 432x288 with 1 Axes>"
      ]
     },
     "metadata": {
      "needs_background": "light"
     },
     "output_type": "display_data"
    }
   ],
   "source": [
    "from sklearn.preprocessing import StandardScaler\n",
    "from sklearn.model_selection import cross_val_score\n",
    "\n",
    "\n",
    "k_values = [i for i in range (1,31)]\n",
    "scores = []\n",
    "\n",
    "scaler = StandardScaler()\n",
    "X = scaler.fit_transform(x)\n",
    "\n",
    "for k in k_values:\n",
    "    knn = KNeighborsClassifier(n_neighbors=k)\n",
    "    score = cross_val_score(knn, X, y, cv=5)\n",
    "    scores.append(np.mean(score))\n",
    "    \n",
    "sns.lineplot(x = k_values, y = scores, marker = 'o')\n",
    "plt.xlabel(\"K Values\")\n",
    "plt.ylabel(\"Accuracy Score\")"
   ]
  },
  {
   "cell_type": "code",
   "execution_count": 12,
   "id": "b0940d81",
   "metadata": {},
   "outputs": [
    {
     "name": "stdout",
     "output_type": "stream",
     "text": [
      "Confusion Matrix\n",
      "============================================================\n",
      "[[1947    1]\n",
      " [   0  198]] \n",
      "\n",
      "Classification Report\n",
      "============================================================\n",
      "              precision    recall  f1-score   support\n",
      "\n",
      "           0       1.00      1.00      1.00      1948\n",
      "           1       0.99      1.00      1.00       198\n",
      "\n",
      "    accuracy                           1.00      2146\n",
      "   macro avg       1.00      1.00      1.00      2146\n",
      "weighted avg       1.00      1.00      1.00      2146\n",
      " \n",
      "\n",
      "AUC-ROC\n",
      "1.0\n",
      "============================================================\n",
      "Precision: \n",
      "0.9949748743718593\n",
      "Recall: \n",
      "1.0\n",
      "F1 Score: \n",
      "0.9974811083123425\n"
     ]
    }
   ],
   "source": [
    "knn_fin = KNeighborsClassifier(n_neighbors = 5)\n",
    "\n",
    "#SMOTE data\n",
    "smot_knn = knn_fin.fit(x_smote, y_smote)\n",
    "\n",
    "# Predicting results using Test data set\n",
    "pred = smot_knn.predict(x_test)\n",
    "\n",
    "from sklearn.metrics import accuracy_score\n",
    "accuracy_score(y_test,pred)\n",
    "\n",
    "model_perform(smot_knn, x_test, y_test)"
   ]
  },
  {
   "cell_type": "code",
   "execution_count": 13,
   "id": "b616ab4d",
   "metadata": {},
   "outputs": [
    {
     "name": "stdout",
     "output_type": "stream",
     "text": [
      "Confusion Matrix\n",
      "============================================================\n",
      "[[1947    1]\n",
      " [   0  198]] \n",
      "\n",
      "Classification Report\n",
      "============================================================\n",
      "              precision    recall  f1-score   support\n",
      "\n",
      "           0       1.00      1.00      1.00      1948\n",
      "           1       0.99      1.00      1.00       198\n",
      "\n",
      "    accuracy                           1.00      2146\n",
      "   macro avg       1.00      1.00      1.00      2146\n",
      "weighted avg       1.00      1.00      1.00      2146\n",
      " \n",
      "\n",
      "AUC-ROC\n",
      "1.0\n",
      "============================================================\n",
      "Precision: \n",
      "0.9949748743718593\n",
      "Recall: \n",
      "1.0\n",
      "F1 Score: \n",
      "0.9974811083123425\n"
     ]
    }
   ],
   "source": [
    "#SMOTE + Tomek\n",
    "smotom_knn = knn_fin.fit(x_smotom, y_smotom)\n",
    "\n",
    "model_perform(smotom_knn, x_test, y_test)"
   ]
  },
  {
   "cell_type": "code",
   "execution_count": 14,
   "id": "1707cd30",
   "metadata": {},
   "outputs": [
    {
     "name": "stdout",
     "output_type": "stream",
     "text": [
      "Confusion Matrix\n",
      "============================================================\n",
      "[[1945    3]\n",
      " [   0  198]] \n",
      "\n",
      "Classification Report\n",
      "============================================================\n",
      "              precision    recall  f1-score   support\n",
      "\n",
      "           0       1.00      1.00      1.00      1948\n",
      "           1       0.99      1.00      0.99       198\n",
      "\n",
      "    accuracy                           1.00      2146\n",
      "   macro avg       0.99      1.00      1.00      2146\n",
      "weighted avg       1.00      1.00      1.00      2146\n",
      " \n",
      "\n",
      "AUC-ROC\n",
      "0.9997433264887063\n",
      "============================================================\n",
      "Precision: \n",
      "0.9850746268656716\n",
      "Recall: \n",
      "1.0\n",
      "F1 Score: \n",
      "0.9924812030075187\n"
     ]
    }
   ],
   "source": [
    "#SMOTE + ENN\n",
    "smoten_knn = knn.fit(x_smoten, y_smoten)\n",
    "\n",
    "model_perform(smoten_knn, x_test, y_test)"
   ]
  },
  {
   "cell_type": "markdown",
   "id": "37e4edaf",
   "metadata": {},
   "source": [
    "### Decision Tree Classifier"
   ]
  },
  {
   "cell_type": "code",
   "execution_count": 15,
   "id": "64b70dd4",
   "metadata": {},
   "outputs": [
    {
     "data": {
      "text/plain": [
       "{'max_depth': 4}"
      ]
     },
     "execution_count": 15,
     "metadata": {},
     "output_type": "execute_result"
    }
   ],
   "source": [
    "from sklearn.tree import DecisionTreeClassifier\n",
    "\n",
    "parameters = {\n",
    "    'max_depth':[3, 4, 5, 6, 10],\n",
    "}\n",
    "dtc = Pipeline([('CV',GridSearchCV(DecisionTreeClassifier(), parameters, cv = 2))])\n",
    "dtc.fit(x, y)\n",
    "dtc.named_steps['CV'].best_params_"
   ]
  },
  {
   "cell_type": "code",
   "execution_count": 16,
   "id": "57f61de8",
   "metadata": {},
   "outputs": [
    {
     "data": {
      "text/plain": [
       "1.0"
      ]
     },
     "execution_count": 16,
     "metadata": {},
     "output_type": "execute_result"
    }
   ],
   "source": [
    "dt_fin = DecisionTreeClassifier(max_depth=4).fit(x, y)\n",
    "dt_scores = cross_val_score(dt_fin, x, y, cv=10, scoring=\"f1\")\n",
    "np.mean(dt_scores)"
   ]
  },
  {
   "cell_type": "code",
   "execution_count": 17,
   "id": "b61f323a",
   "metadata": {},
   "outputs": [
    {
     "name": "stdout",
     "output_type": "stream",
     "text": [
      "Confusion Matrix\n",
      "============================================================\n",
      "[[1948    0]\n",
      " [   1  197]] \n",
      "\n",
      "Classification Report\n",
      "============================================================\n",
      "              precision    recall  f1-score   support\n",
      "\n",
      "           0       1.00      1.00      1.00      1948\n",
      "           1       1.00      0.99      1.00       198\n",
      "\n",
      "    accuracy                           1.00      2146\n",
      "   macro avg       1.00      1.00      1.00      2146\n",
      "weighted avg       1.00      1.00      1.00      2146\n",
      " \n",
      "\n",
      "AUC-ROC\n",
      "0.9974747474747474\n",
      "============================================================\n",
      "Precision: \n",
      "1.0\n",
      "Recall: \n",
      "0.9949494949494949\n",
      "F1 Score: \n",
      "0.9974683544303797\n"
     ]
    }
   ],
   "source": [
    "model_perform(dt_fin, x_test, y_test)"
   ]
  },
  {
   "cell_type": "code",
   "execution_count": 18,
   "id": "81cbd09e",
   "metadata": {},
   "outputs": [
    {
     "data": {
      "image/png": "[encoded data removed]",
      "text/plain": [
       "<Figure size 432x288 with 2 Axes>"
      ]
     },
     "metadata": {
      "needs_background": "light"
     },
     "output_type": "display_data"
    }
   ],
   "source": [
    "predictions = dt_fin.predict(x_test)\n",
    "cm = confusion_matrix(y_test, predictions, labels=dt_fin.classes_)\n",
    "disp = ConfusionMatrixDisplay(confusion_matrix=cm, display_labels=dt_fin.classes_)\n",
    "disp.plot()\n",
    "\n",
    "plt.show()"
   ]
  },
  {
   "cell_type": "markdown",
   "id": "1aa2c58f",
   "metadata": {},
   "source": [
    "### Random Forest Classifier"
   ]
  },
  {
   "cell_type": "code",
   "execution_count": 19,
   "id": "ff3df587",
   "metadata": {},
   "outputs": [
    {
     "data": {
      "text/plain": [
       "{'max_depth': 3, 'n_estimators': 10}"
      ]
     },
     "execution_count": 19,
     "metadata": {},
     "output_type": "execute_result"
    }
   ],
   "source": [
    "from sklearn.ensemble import RandomForestClassifier\n",
    "\n",
    "parameters = {\n",
    "    'max_depth':[3, 6,12,15,20],\n",
    "    'n_estimators':[10, 20,30]\n",
    "}\n",
    "rfor = Pipeline([('CV',GridSearchCV(RandomForestClassifier(), parameters, cv = 5))])\n",
    "rfor.fit(x, y)\n",
    "rfor.named_steps['CV'].best_params_"
   ]
  },
  {
   "cell_type": "code",
   "execution_count": 20,
   "id": "df746eea",
   "metadata": {},
   "outputs": [
    {
     "data": {
      "text/plain": [
       "1.0"
      ]
     },
     "execution_count": 20,
     "metadata": {},
     "output_type": "execute_result"
    }
   ],
   "source": [
    "rf = Pipeline([('rf', RandomForestClassifier(n_estimators = 20, max_depth = 20).fit(x, y))])\n",
    "rf_scores = cross_val_score(rf, x, y, cv=10, scoring=\"f1\")\n",
    "np.mean(rf_scores)"
   ]
  },
  {
   "cell_type": "code",
   "execution_count": 21,
   "id": "b1a7eb84",
   "metadata": {},
   "outputs": [
    {
     "name": "stdout",
     "output_type": "stream",
     "text": [
      "Confusion Matrix\n",
      "============================================================\n",
      "[[1948    0]\n",
      " [   2  196]] \n",
      "\n",
      "Classification Report\n",
      "============================================================\n",
      "              precision    recall  f1-score   support\n",
      "\n",
      "           0       1.00      1.00      1.00      1948\n",
      "           1       1.00      0.99      0.99       198\n",
      "\n",
      "    accuracy                           1.00      2146\n",
      "   macro avg       1.00      0.99      1.00      2146\n",
      "weighted avg       1.00      1.00      1.00      2146\n",
      " \n",
      "\n",
      "AUC-ROC\n",
      "1.0\n",
      "============================================================\n",
      "Precision: \n",
      "1.0\n",
      "Recall: \n",
      "0.98989898989899\n",
      "F1 Score: \n",
      "0.9949238578680203\n"
     ]
    }
   ],
   "source": [
    "model_perform(rf, x_test, y_test)"
   ]
  },
  {
   "cell_type": "code",
   "execution_count": 22,
   "id": "d1826f43",
   "metadata": {},
   "outputs": [
    {
     "data": {
      "image/png": "[encoded data removed]",
      "text/plain": [
       "<Figure size 432x288 with 2 Axes>"
      ]
     },
     "metadata": {
      "needs_background": "light"
     },
     "output_type": "display_data"
    }
   ],
   "source": [
    "predictions = rf.predict(x_test)\n",
    "cm = confusion_matrix(y_test, predictions, labels=rf.classes_)\n",
    "disp = ConfusionMatrixDisplay(confusion_matrix=cm, display_labels=rf.classes_)\n",
    "disp.plot()\n",
    "\n",
    "plt.show()"
   ]
  },
  {
   "cell_type": "markdown",
   "id": "b3902c9c",
   "metadata": {},
   "source": [
    "### SVC"
   ]
  },
  {
   "cell_type": "code",
   "execution_count": 23,
   "id": "2699a172",
   "metadata": {},
   "outputs": [
    {
     "data": {
      "text/plain": [
       "{'C': 1000, 'gamma': 0.1, 'kernel': 'rbf'}"
      ]
     },
     "execution_count": 23,
     "metadata": {},
     "output_type": "execute_result"
    }
   ],
   "source": [
    "from sklearn.svm import SVC\n",
    "\n",
    "parameters = {\n",
    "    'C': [0.1, 1, 10, 100, 1000], \n",
    "    'gamma': [1, 0.1, 0.01, 0.001, 0.0001],\n",
    "    'kernel': ['rbf']\n",
    "} \n",
    "svm = Pipeline([('CV',GridSearchCV(SVC(), parameters, cv = 5))])\n",
    "svm.fit(x, y)\n",
    "svm.named_steps['CV'].best_params_"
   ]
  },
  {
   "cell_type": "code",
   "execution_count": 24,
   "id": "2cb1e38f",
   "metadata": {},
   "outputs": [
    {
     "data": {
      "text/plain": [
       "0.9986928104575163"
      ]
     },
     "execution_count": 24,
     "metadata": {},
     "output_type": "execute_result"
    }
   ],
   "source": [
    "svc_fin = Pipeline([('svc', SVC(C = 100, gamma = 0.1, kernel = 'rbf').fit(x, y))])\n",
    "svc_scores = cross_val_score(svc_fin, x, y, cv=10, scoring=\"f1\")\n",
    "np.mean(svc_scores)"
   ]
  },
  {
   "cell_type": "code",
   "execution_count": 25,
   "id": "7923a155",
   "metadata": {},
   "outputs": [
    {
     "data": {
      "image/png": "[encoded data removed]",
      "text/plain": [
       "<Figure size 432x288 with 2 Axes>"
      ]
     },
     "metadata": {
      "needs_background": "light"
     },
     "output_type": "display_data"
    }
   ],
   "source": [
    "predictions = svc_fin.predict(x_test)\n",
    "cm = confusion_matrix(y_test, predictions, labels=svc_fin.classes_)\n",
    "disp = ConfusionMatrixDisplay(confusion_matrix=cm, display_labels=svc_fin.classes_)\n",
    "disp.plot()\n",
    "\n",
    "plt.show()"
   ]
  },
  {
   "cell_type": "markdown",
   "id": "21123437",
   "metadata": {},
   "source": [
    "### Display Recommended Songs"
   ]
  },
  {
   "cell_type": "code",
   "execution_count": 26,
   "id": "9dd1449b",
   "metadata": {},
   "outputs": [
    {
     "data": {
      "text/plain": [
       "0.9990680335507922"
      ]
     },
     "execution_count": 26,
     "metadata": {},
     "output_type": "execute_result"
    }
   ],
   "source": [
    "from sklearn.pipeline import make_pipeline\n",
    "from sklearn.preprocessing import StandardScaler\n",
    "\n",
    "pipe = make_pipeline(StandardScaler(), DecisionTreeClassifier(max_depth=4))\n",
    "pipe.fit(x, y)  # apply scaling on training data\n",
    "Pipeline(steps=[('standardscaler', StandardScaler()),\n",
    "                ('dt', DecisionTreeClassifier(max_depth=30))])\n",
    "\n",
    "pipe.score(x_test, y_test)"
   ]
  },
  {
   "cell_type": "code",
   "execution_count": 40,
   "id": "0bd694f5",
   "metadata": {},
   "outputs": [
    {
     "data": {
      "text/html": [
       "<div>\n",
       "<style scoped>\n",
       "    .dataframe tbody tr th:only-of-type {\n",
       "        vertical-align: middle;\n",
       "    }\n",
       "\n",
       "    .dataframe tbody tr th {\n",
       "        vertical-align: top;\n",
       "    }\n",
       "\n",
       "    .dataframe thead th {\n",
       "        text-align: right;\n",
       "    }\n",
       "</style>\n",
       "<table border=\"1\" class=\"dataframe\">\n",
       "  <thead>\n",
       "    <tr style=\"text-align: right;\">\n",
       "      <th></th>\n",
       "      <th>popularity</th>\n",
       "      <th>danceability</th>\n",
       "      <th>acousticness</th>\n",
       "      <th>energy</th>\n",
       "      <th>instrumentalness</th>\n",
       "      <th>liveness</th>\n",
       "      <th>loudness</th>\n",
       "      <th>speechiness</th>\n",
       "      <th>tempo</th>\n",
       "    </tr>\n",
       "  </thead>\n",
       "  <tbody>\n",
       "    <tr>\n",
       "      <th>6588</th>\n",
       "      <td>52</td>\n",
       "      <td>0.629</td>\n",
       "      <td>0.381</td>\n",
       "      <td>0.699</td>\n",
       "      <td>0.019300</td>\n",
       "      <td>0.144</td>\n",
       "      <td>-6.396</td>\n",
       "      <td>0.0581</td>\n",
       "      <td>125.447</td>\n",
       "    </tr>\n",
       "    <tr>\n",
       "      <th>4310</th>\n",
       "      <td>39</td>\n",
       "      <td>0.510</td>\n",
       "      <td>0.088</td>\n",
       "      <td>0.523</td>\n",
       "      <td>0.000048</td>\n",
       "      <td>0.108</td>\n",
       "      <td>-8.913</td>\n",
       "      <td>0.0438</td>\n",
       "      <td>108.577</td>\n",
       "    </tr>\n",
       "    <tr>\n",
       "      <th>8727</th>\n",
       "      <td>63</td>\n",
       "      <td>0.739</td>\n",
       "      <td>0.912</td>\n",
       "      <td>0.841</td>\n",
       "      <td>0.774000</td>\n",
       "      <td>0.271</td>\n",
       "      <td>-4.832</td>\n",
       "      <td>0.1140</td>\n",
       "      <td>144.065</td>\n",
       "    </tr>\n",
       "    <tr>\n",
       "      <th>6758</th>\n",
       "      <td>52</td>\n",
       "      <td>0.637</td>\n",
       "      <td>0.421</td>\n",
       "      <td>0.710</td>\n",
       "      <td>0.028700</td>\n",
       "      <td>0.150</td>\n",
       "      <td>-6.261</td>\n",
       "      <td>0.0602</td>\n",
       "      <td>126.024</td>\n",
       "    </tr>\n",
       "    <tr>\n",
       "      <th>5256</th>\n",
       "      <td>45</td>\n",
       "      <td>0.559</td>\n",
       "      <td>0.170</td>\n",
       "      <td>0.605</td>\n",
       "      <td>0.000568</td>\n",
       "      <td>0.118</td>\n",
       "      <td>-7.639</td>\n",
       "      <td>0.0481</td>\n",
       "      <td>118.092</td>\n",
       "    </tr>\n",
       "  </tbody>\n",
       "</table>\n",
       "</div>"
      ],
      "text/plain": [
       "      popularity  danceability  acousticness  energy  instrumentalness  \\\n",
       "6588          52         0.629         0.381   0.699          0.019300   \n",
       "4310          39         0.510         0.088   0.523          0.000048   \n",
       "8727          63         0.739         0.912   0.841          0.774000   \n",
       "6758          52         0.637         0.421   0.710          0.028700   \n",
       "5256          45         0.559         0.170   0.605          0.000568   \n",
       "\n",
       "      liveness  loudness  speechiness    tempo  \n",
       "6588     0.144    -6.396       0.0581  125.447  \n",
       "4310     0.108    -8.913       0.0438  108.577  \n",
       "8727     0.271    -4.832       0.1140  144.065  \n",
       "6758     0.150    -6.261       0.0602  126.024  \n",
       "5256     0.118    -7.639       0.0481  118.092  "
      ]
     },
     "execution_count": 40,
     "metadata": {},
     "output_type": "execute_result"
    }
   ],
   "source": [
    "x.head()"
   ]
  },
  {
   "cell_type": "code",
   "execution_count": 43,
   "id": "bc0ae624",
   "metadata": {
    "scrolled": true
   },
   "outputs": [
    {
     "data": {
      "text/html": [
       "<div>\n",
       "<style scoped>\n",
       "    .dataframe tbody tr th:only-of-type {\n",
       "        vertical-align: middle;\n",
       "    }\n",
       "\n",
       "    .dataframe tbody tr th {\n",
       "        vertical-align: top;\n",
       "    }\n",
       "\n",
       "    .dataframe thead th {\n",
       "        text-align: right;\n",
       "    }\n",
       "</style>\n",
       "<table border=\"1\" class=\"dataframe\">\n",
       "  <thead>\n",
       "    <tr style=\"text-align: right;\">\n",
       "      <th></th>\n",
       "      <th>track_id</th>\n",
       "      <th>name</th>\n",
       "      <th>album</th>\n",
       "      <th>artist</th>\n",
       "      <th>release_date</th>\n",
       "      <th>length</th>\n",
       "      <th>popularity</th>\n",
       "      <th>danceability</th>\n",
       "      <th>acousticness</th>\n",
       "      <th>energy</th>\n",
       "      <th>instrumentalness</th>\n",
       "      <th>liveness</th>\n",
       "      <th>loudness</th>\n",
       "      <th>speechiness</th>\n",
       "      <th>tempo</th>\n",
       "      <th>time_signature</th>\n",
       "    </tr>\n",
       "  </thead>\n",
       "  <tbody>\n",
       "    <tr>\n",
       "      <th>0</th>\n",
       "      <td>7MAibcTli4IisCtbHKrGMh</td>\n",
       "      <td>Leave The Door Open</td>\n",
       "      <td>Leave The Door Open</td>\n",
       "      <td>Bruno Mars</td>\n",
       "      <td>2021-03-05</td>\n",
       "      <td>242096</td>\n",
       "      <td>90</td>\n",
       "      <td>0.586</td>\n",
       "      <td>0.1820</td>\n",
       "      <td>0.616</td>\n",
       "      <td>0.000000</td>\n",
       "      <td>0.0927</td>\n",
       "      <td>-7.964</td>\n",
       "      <td>0.0324</td>\n",
       "      <td>148.088</td>\n",
       "      <td>4</td>\n",
       "    </tr>\n",
       "    <tr>\n",
       "      <th>1</th>\n",
       "      <td>5QO79kh1waicV47BqGRL3g</td>\n",
       "      <td>Save Your Tears</td>\n",
       "      <td>After Hours</td>\n",
       "      <td>The Weeknd</td>\n",
       "      <td>2020-03-20</td>\n",
       "      <td>215626</td>\n",
       "      <td>97</td>\n",
       "      <td>0.680</td>\n",
       "      <td>0.0212</td>\n",
       "      <td>0.826</td>\n",
       "      <td>0.000012</td>\n",
       "      <td>0.5430</td>\n",
       "      <td>-5.487</td>\n",
       "      <td>0.0309</td>\n",
       "      <td>118.051</td>\n",
       "      <td>4</td>\n",
       "    </tr>\n",
       "    <tr>\n",
       "      <th>2</th>\n",
       "      <td>1diS6nkxMQc3wwC4G1j0bh</td>\n",
       "      <td>We're Good</td>\n",
       "      <td>Future Nostalgia (The Moonlight Edition)</td>\n",
       "      <td>Dua Lipa</td>\n",
       "      <td>2021-02-11</td>\n",
       "      <td>165506</td>\n",
       "      <td>88</td>\n",
       "      <td>0.722</td>\n",
       "      <td>0.0319</td>\n",
       "      <td>0.588</td>\n",
       "      <td>0.000000</td>\n",
       "      <td>0.1830</td>\n",
       "      <td>-5.932</td>\n",
       "      <td>0.0544</td>\n",
       "      <td>134.010</td>\n",
       "      <td>4</td>\n",
       "    </tr>\n",
       "    <tr>\n",
       "      <th>3</th>\n",
       "      <td>4u4NyuceXP7Uzh7XFJKCr1</td>\n",
       "      <td>Hold On</td>\n",
       "      <td>Hold On</td>\n",
       "      <td>Justin Bieber</td>\n",
       "      <td>2021-03-05</td>\n",
       "      <td>170813</td>\n",
       "      <td>89</td>\n",
       "      <td>0.658</td>\n",
       "      <td>0.0106</td>\n",
       "      <td>0.634</td>\n",
       "      <td>0.000000</td>\n",
       "      <td>0.1320</td>\n",
       "      <td>-5.797</td>\n",
       "      <td>0.0413</td>\n",
       "      <td>139.980</td>\n",
       "      <td>4</td>\n",
       "    </tr>\n",
       "    <tr>\n",
       "      <th>4</th>\n",
       "      <td>3Ofmpyhv5UAQ70mENzB277</td>\n",
       "      <td>Astronaut In The Ocean</td>\n",
       "      <td>Astronaut In The Ocean</td>\n",
       "      <td>Masked Wolf</td>\n",
       "      <td>2021-01-06</td>\n",
       "      <td>132780</td>\n",
       "      <td>94</td>\n",
       "      <td>0.778</td>\n",
       "      <td>0.1750</td>\n",
       "      <td>0.695</td>\n",
       "      <td>0.000000</td>\n",
       "      <td>0.1500</td>\n",
       "      <td>-6.865</td>\n",
       "      <td>0.0913</td>\n",
       "      <td>149.996</td>\n",
       "      <td>4</td>\n",
       "    </tr>\n",
       "  </tbody>\n",
       "</table>\n",
       "</div>"
      ],
      "text/plain": [
       "                 track_id                    name  \\\n",
       "0  7MAibcTli4IisCtbHKrGMh     Leave The Door Open   \n",
       "1  5QO79kh1waicV47BqGRL3g         Save Your Tears   \n",
       "2  1diS6nkxMQc3wwC4G1j0bh              We're Good   \n",
       "3  4u4NyuceXP7Uzh7XFJKCr1                 Hold On   \n",
       "4  3Ofmpyhv5UAQ70mENzB277  Astronaut In The Ocean   \n",
       "\n",
       "                                      album         artist release_date  \\\n",
       "0                       Leave The Door Open     Bruno Mars   2021-03-05   \n",
       "1                               After Hours     The Weeknd   2020-03-20   \n",
       "2  Future Nostalgia (The Moonlight Edition)       Dua Lipa   2021-02-11   \n",
       "3                                   Hold On  Justin Bieber   2021-03-05   \n",
       "4                    Astronaut In The Ocean    Masked Wolf   2021-01-06   \n",
       "\n",
       "   length  popularity  danceability  acousticness  energy  instrumentalness  \\\n",
       "0  242096          90         0.586        0.1820   0.616          0.000000   \n",
       "1  215626          97         0.680        0.0212   0.826          0.000012   \n",
       "2  165506          88         0.722        0.0319   0.588          0.000000   \n",
       "3  170813          89         0.658        0.0106   0.634          0.000000   \n",
       "4  132780          94         0.778        0.1750   0.695          0.000000   \n",
       "\n",
       "   liveness  loudness  speechiness    tempo  time_signature  \n",
       "0    0.0927    -7.964       0.0324  148.088               4  \n",
       "1    0.5430    -5.487       0.0309  118.051               4  \n",
       "2    0.1830    -5.932       0.0544  134.010               4  \n",
       "3    0.1320    -5.797       0.0413  139.980               4  \n",
       "4    0.1500    -6.865       0.0913  149.996               4  "
      ]
     },
     "execution_count": 43,
     "metadata": {},
     "output_type": "execute_result"
    }
   ],
   "source": [
    "general = pd.read_csv('playlist_songs.csv')\n",
    "general.head()"
   ]
  },
  {
   "cell_type": "code",
   "execution_count": 44,
   "id": "2c89fe45",
   "metadata": {},
   "outputs": [],
   "source": [
    "prob_preds = pipe.predict_proba(general.drop(['name', 'album', 'artist', 'track_id', 'release_date', 'time_signature', 'length'], axis=1))\n",
    "threshold = 0.2 # define threshold here\n",
    "preds = [1 if prob_preds[i][1]> threshold else 0 for i in range(len(prob_preds))]\n",
    "general['prediction'] = preds"
   ]
  },
  {
   "cell_type": "code",
   "execution_count": 45,
   "id": "2aca792f",
   "metadata": {
    "scrolled": true
   },
   "outputs": [
    {
     "data": {
      "text/plain": [
       "0    8893\n",
       "1     876\n",
       "Name: prediction, dtype: int64"
      ]
     },
     "execution_count": 45,
     "metadata": {},
     "output_type": "execute_result"
    }
   ],
   "source": [
    "general['prediction'].value_counts()"
   ]
  },
  {
   "cell_type": "code",
   "execution_count": 46,
   "id": "97a27abf",
   "metadata": {},
   "outputs": [
    {
     "data": {
      "text/plain": [
       "8                             Levitating (feat. DaBaby)\n",
       "17                                   My Head & My Heart\n",
       "29    Friday (feat. Mufasa & Hypeman) - Dopamine Re-...\n",
       "34    Wellerman - Sea Shanty / 220 KID x Billen Ted ...\n",
       "40                               Mood (feat. iann dior)\n",
       "Name: name, dtype: object"
      ]
     },
     "execution_count": 46,
     "metadata": {},
     "output_type": "execute_result"
    }
   ],
   "source": [
    "recs = df.loc[general['prediction'] == 1]['name']\n",
    "recs.head()"
   ]
  }
 ],
 "metadata": {
  "kernelspec": {
   "display_name": "Python 3 (ipykernel)",
   "language": "python",
   "name": "python3"
  },
  "language_info": {
   "codemirror_mode": {
    "name": "ipython",
    "version": 3
   },
   "file_extension": ".py",
   "mimetype": "text/x-python",
   "name": "python",
   "nbconvert_exporter": "python",
   "pygments_lexer": "ipython3",
   "version": "3.9.7"
  }
 },
 "nbformat": 4,
 "nbformat_minor": 5
}

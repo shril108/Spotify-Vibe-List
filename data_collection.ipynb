{
 "cells": [
  {
   "cell_type": "code",
   "execution_count": 1,
   "id": "ecfacd66",
   "metadata": {},
   "outputs": [],
   "source": [
    "import pandas as pd\n",
    "import spotipy\n",
    "import spotipy.util as util\n",
    "from spotipy.oauth2 import SpotifyClientCredentials\n",
    "from spotipy import oauth2"
   ]
  },
  {
   "cell_type": "code",
   "execution_count": 2,
   "id": "7c7552cf",
   "metadata": {},
   "outputs": [],
   "source": [
    "cid = '5b16dbe9a3f144cf802ab7fe13b2c906'\n",
    "secret = 'a19d0b35389e4d1dba98b2b9faf0ab52'\n",
    "redirect_uri='https://localhost:8888/callback'\n",
    "username = 'Meliodas'"
   ]
  },
  {
   "cell_type": "code",
   "execution_count": 3,
   "id": "fd218d63",
   "metadata": {},
   "outputs": [],
   "source": [
    "scope = 'user-library-read'\n",
    "token = util.prompt_for_user_token(username, scope, client_id=cid, client_secret=secret, redirect_uri=redirect_uri)\n",
    "\n",
    "if token:\n",
    "    sp = spotipy.Spotify(auth=token)\n",
    "else:\n",
    "    print(\"Can't get token for\", username)"
   ]
  },
  {
   "cell_type": "code",
   "execution_count": 4,
   "id": "7e7bccd9",
   "metadata": {},
   "outputs": [
    {
     "data": {
      "text/plain": [
       "['37i9dQZF1DXcBWIGoYBM5M',\n",
       " '37i9dQZF1DX0XUsuxWHRQd',\n",
       " '37i9dQZF1DX1lVhptIYRda',\n",
       " '37i9dQZF1DX10zKzsJ2jva',\n",
       " '37i9dQZF1DX4JAvHpjipBk',\n",
       " '37i9dQZF1DX4sWSpwq3LiO',\n",
       " '37i9dQZF1DX4SBhb3fqCJd',\n",
       " '37i9dQZF1DWXRqgorJj26U',\n",
       " '37i9dQZF1DX4dyzvuaRJ0n',\n",
       " '37i9dQZF1DXcF6B6QPhFDv',\n",
       " '37i9dQZF1DWXJfnUiYjUKT',\n",
       " '37i9dQZF1DXcRXFNfZr7Tp',\n",
       " '37i9dQZF1DX4o1oenSJRJd',\n",
       " '37i9dQZF1DXbTxeAdrVG2l',\n",
       " '37i9dQZF1DX4UtSsGT1Sbe',\n",
       " '37i9dQZF1DWTJ7xPn4vNaz',\n",
       " '37i9dQZF1DXaKIA8E7WcJj',\n",
       " '37i9dQZF1DWSV3Tk4GO2fq',\n",
       " '37i9dQZF1DWTwnEm1IYyoj',\n",
       " '37i9dQZF1DX2A29LI7xHn1']"
      ]
     },
     "execution_count": 4,
     "metadata": {},
     "output_type": "execute_result"
    }
   ],
   "source": [
    "# Getting playlist IDs from each of Spotify's playlists\n",
    "playlists = sp.user_playlists('spotify')\n",
    "spotify_playlist_ids = []\n",
    "while playlists:\n",
    "    for i, playlist in enumerate(playlists['items']):\n",
    "        spotify_playlist_ids.append(playlist['uri'][-22:])\n",
    "    if playlists['next']:\n",
    "        playlists = sp.next(playlists)\n",
    "    else:\n",
    "        playlists = None\n",
    "spotify_playlist_ids[:20]"
   ]
  },
  {
   "cell_type": "code",
   "execution_count": 5,
   "id": "4338b13e",
   "metadata": {
    "scrolled": true
   },
   "outputs": [
    {
     "data": {
      "text/plain": [
       "1113"
      ]
     },
     "execution_count": 5,
     "metadata": {},
     "output_type": "execute_result"
    }
   ],
   "source": [
    "len(spotify_playlist_ids)"
   ]
  },
  {
   "cell_type": "code",
   "execution_count": 7,
   "id": "53ebc145",
   "metadata": {},
   "outputs": [],
   "source": [
    "def getTrackFeatures(track_id):\n",
    "#     print(\"started method\")\n",
    "    meta = sp.track(track_id)\n",
    "#     print(\"assigned meta\")\n",
    "    features = sp.audio_features(track_id)\n",
    "#     print(\"assigned features\")\n",
    "    \n",
    "    # meta\n",
    "    name = meta['name']\n",
    "    album = meta['album']['name']\n",
    "    artist = meta['album']['artists'][0]['name']\n",
    "    release_date = meta['album']['release_date']\n",
    "    length = meta['duration_ms']\n",
    "    popularity = meta['popularity']\n",
    "    genres = meta['album']['genres']\n",
    "\n",
    "#     print(\"went thru meta\")\n",
    "\n",
    "    # features\n",
    "    acousticness = features[0]['acousticness']\n",
    "    danceability = features[0]['danceability']\n",
    "    energy = features[0]['energy']\n",
    "    instrumentalness = features[0]['instrumentalness']\n",
    "    liveness = features[0]['liveness']\n",
    "    loudness = features[0]['loudness']\n",
    "    speechiness = features[0]['speechiness']\n",
    "    tempo = features[0]['tempo']\n",
    "    time_signature = features[0]['time_signature']\n",
    "\n",
    "#     print(\"went thru features\")\n",
    "    \n",
    "    track = [track_id, name, album, artist, release_date, length, popularity, danceability, acousticness, energy, instrumentalness, liveness, loudness, speechiness, tempo, time_signature, genres]\n",
    "    return track"
   ]
  },
  {
   "cell_type": "code",
   "execution_count": 8,
   "id": "f75e13db",
   "metadata": {},
   "outputs": [],
   "source": [
    "# Creating a function to get the first 50 tracks IDs from a playlist\n",
    "def getTrackIDs(playlist_id):\n",
    "    playlist = sp.user_playlist('spotify', playlist_id)\n",
    "    for item in playlist['tracks']['items'][:50]:\n",
    "        track = item['track']\n",
    "        if track == None: continue\n",
    "        ids.append(track['id'])\n",
    "    return"
   ]
  },
  {
   "cell_type": "code",
   "execution_count": 9,
   "id": "7f06d019",
   "metadata": {
    "scrolled": true
   },
   "outputs": [
    {
     "name": "stdout",
     "output_type": "stream",
     "text": [
      "CPU times: total: 2.73 s\n",
      "Wall time: 1min 42s\n"
     ]
    },
    {
     "data": {
      "text/plain": [
       "['23RoR84KodL5HWvUTneQ1w',\n",
       " '741UUVE2kuITl0c6zuqqbO',\n",
       " '2IGMVunIBsBLtEQyoI1Mu7',\n",
       " '7x9aauaA9cu6tyfpHnqDLo',\n",
       " '2i8f4VnnBjy0yDqH2C452a']"
      ]
     },
     "execution_count": 9,
     "metadata": {},
     "output_type": "execute_result"
    }
   ],
   "source": [
    "%%time\n",
    "# Gathering track ids\n",
    "ids = []\n",
    "for x in spotify_playlist_ids[:200]:\n",
    "    getTrackIDs(x)\n",
    "ids[:5]"
   ]
  },
  {
   "cell_type": "code",
   "execution_count": 10,
   "id": "92ee6ff4",
   "metadata": {},
   "outputs": [
    {
     "data": {
      "text/plain": [
       "9636"
      ]
     },
     "execution_count": 10,
     "metadata": {},
     "output_type": "execute_result"
    }
   ],
   "source": [
    "len(ids)"
   ]
  },
  {
   "cell_type": "code",
   "execution_count": null,
   "id": "10464ceb",
   "metadata": {},
   "outputs": [
    {
     "name": "stdout",
     "output_type": "stream",
     "text": [
      "23RoR84KodL5HWvUTneQ1w\n"
     ]
    }
   ],
   "source": [
    "%%time\n",
    "# loop over track ids to get audio features for each track\n",
    "tracks = []\n",
    "for i in range(5):\n",
    "    print(ids[i])\n",
    "    try:  \n",
    "        track = getTrackFeatures(ids[i])\n",
    "        tracks.append(track)\n",
    "    except:\n",
    "        pass\n",
    "\n",
    "# create dataset\n",
    "df = pd.DataFrame(tracks, columns = ['track_id', 'name', 'album', 'artist', 'release_date', 'length', 'popularity', 'danceability', 'acousticness', 'energy', 'instrumentalness', 'liveness', 'loudness', 'speechiness', 'tempo', 'time_signature', 'genres'])\n",
    "df.head()"
   ]
  },
  {
   "cell_type": "code",
   "execution_count": null,
   "id": "0f847866",
   "metadata": {},
   "outputs": [],
   "source": [
    "%%time\n",
    "def get_playlist_tracks(username,playlist_id):\n",
    "    results = sp.user_playlist_tracks(username,playlist_id, limit = 100)\n",
    "    tracks = results['items']\n",
    "    while results['next']:\n",
    "        results = sp.next(results)\n",
    "        tracks.extend(results['items'])\n",
    "    return tracks\n",
    "\n",
    "results = get_playlist_tracks(\"Meliodas\", \"https://open.spotify.com/playlist/7lMeQW9qfnRn13H7xojaBs?si=9318b46daa774c01\")\n",
    "\n",
    "# results = sp.current_user_saved_tracks(limit=50)\n",
    "liked_songs = []\n",
    "# for item in results:\n",
    "#     print(item)\n",
    "#     print(\"\\n\")\n",
    "for item in results:\n",
    "    track = getTrackFeatures(item['track']['id'])\n",
    "    liked_songs.append(track)"
   ]
  },
  {
   "cell_type": "code",
   "execution_count": null,
   "id": "e7a7f957",
   "metadata": {},
   "outputs": [],
   "source": [
    "df_fav = pd.DataFrame(liked_songs, columns = ['track_id', 'name', 'album', 'artist', 'release_date', 'length', 'popularity', 'danceability', 'acousticness', 'energy', 'instrumentalness', 'liveness', 'loudness', 'speechiness', 'tempo', 'time_signature', 'genres'])\n",
    "df_fav.head()"
   ]
  },
  {
   "cell_type": "code",
   "execution_count": null,
   "id": "a95fec49",
   "metadata": {},
   "outputs": [],
   "source": [
    "df_fav.info()"
   ]
  },
  {
   "cell_type": "code",
   "execution_count": null,
   "id": "b26ccc59",
   "metadata": {},
   "outputs": [],
   "source": [
    "df_fav[\"favorite\"] = 1\n",
    "df_fav.head()"
   ]
  },
  {
   "cell_type": "code",
   "execution_count": null,
   "id": "8f3e2946",
   "metadata": {},
   "outputs": [],
   "source": [
    "df[\"favorite\"] = 0\n",
    "df.head()"
   ]
  },
  {
   "cell_type": "code",
   "execution_count": null,
   "id": "2f0f3e2e",
   "metadata": {},
   "outputs": [],
   "source": [
    "frames = [df, df_fav]\n",
    "data = pd.concat(frames)\n",
    "data.head()"
   ]
  },
  {
   "cell_type": "code",
   "execution_count": null,
   "id": "8d80136c",
   "metadata": {},
   "outputs": [],
   "source": [
    "data.info()\n",
    "data.to_csv(\"comb_data.csv\")"
   ]
  },
  {
   "cell_type": "code",
   "execution_count": null,
   "id": "a7af0e43",
   "metadata": {},
   "outputs": [],
   "source": []
  }
 ],
 "metadata": {
  "kernelspec": {
   "display_name": "Python 3 (ipykernel)",
   "language": "python",
   "name": "python3"
  },
  "language_info": {
   "codemirror_mode": {
    "name": "ipython",
    "version": 3
   },
   "file_extension": ".py",
   "mimetype": "text/x-python",
   "name": "python",
   "nbconvert_exporter": "python",
   "pygments_lexer": "ipython3",
   "version": "3.9.7"
  }
 },
 "nbformat": 4,
 "nbformat_minor": 5
}
